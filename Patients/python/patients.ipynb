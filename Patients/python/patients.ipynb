{
 "cells": [
  {
   "cell_type": "code",
   "execution_count": 11,
   "id": "cdd4adcf",
   "metadata": {},
   "outputs": [],
   "source": [
    "import pandas as pd\n",
    "\n",
    "url = r\"C:\\Users\\HP\\Desktop\\Joshua's files\\My data sets\\Patients\\python\\dataset_med.csv\"\n",
    "df = pd.read_csv(url)\n",
    "\n",
    "columns_to_encode = ['gender', 'country', 'diagnosis_date', 'cancer_stage',\n",
    "                     'family_history', 'smoking_status', 'treatment_type', 'end_treatment_date']\n",
    "\n",
    "for col in columns_to_encode:\n",
    "    df[col + 'ID'] = df[col].astype('category').cat.codes\n",
    "\n",
    "cols = ['id', 'age', 'genderID', 'gender', 'countryID', 'country', 'diagnosis_dateID', 'diagnosis_date', 'cancer_stageID', 'cancer_stage',\n",
    "        'family_historyID', 'family_history', 'smoking_statusID', 'smoking_status', 'bmi', 'cholesterol_level',\n",
    "       'hypertension', 'asthma', 'cirrhosis', 'other_cancer',  'treatment_typeID', 'treatment_type',\n",
    "       'end_treatment_dateID', 'end_treatment_date', 'survived']\n",
    "\n",
    "df = df[cols]\n",
    "\n",
    "df.to_csv('cancer_patients.csv', index = False)\n",
    "\n"
   ]
  },
  {
   "cell_type": "code",
   "execution_count": null,
   "id": "c96361a9",
   "metadata": {},
   "outputs": [],
   "source": []
  },
  {
   "cell_type": "code",
   "execution_count": null,
   "id": "f09813ce",
   "metadata": {},
   "outputs": [],
   "source": []
  }
 ],
 "metadata": {
  "kernelspec": {
   "display_name": "Python 3",
   "language": "python",
   "name": "python3"
  },
  "language_info": {
   "codemirror_mode": {
    "name": "ipython",
    "version": 3
   },
   "file_extension": ".py",
   "mimetype": "text/x-python",
   "name": "python",
   "nbconvert_exporter": "python",
   "pygments_lexer": "ipython3",
   "version": "3.12.0"
  }
 },
 "nbformat": 4,
 "nbformat_minor": 5
}
